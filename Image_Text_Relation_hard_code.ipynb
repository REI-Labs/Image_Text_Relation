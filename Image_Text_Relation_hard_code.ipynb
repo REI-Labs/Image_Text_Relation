{
 "cells": [
  {
   "cell_type": "markdown",
   "id": "12bf3722",
   "metadata": {},
   "source": [
    "# new strategy:\n",
    "### hard code regex \n",
    "1. pull image/ text use OCR textract when neccessary.  Sometimes there are no captions, or detailed descriptions of the image, we can get a weak/general description with Pre-trained image captions\n",
    "\n",
    "2. With regex, pull brief description, the detailed description of FIG and tie it back to the image figures\n",
    "\n",
    "3. Save Everything in a table image fig to text \n",
    "\n",
    "4. Use the information to find other parts the text that relate to the image with text similarity search that were not referenced by the author "
   ]
  },
  {
   "cell_type": "code",
   "execution_count": 22,
   "id": "ccf9edbf",
   "metadata": {},
   "outputs": [],
   "source": [
    "AWS_ACCESS_KEY_ID=\"\"\n",
    "AWS_SECRET_ACCESS_KEY=\"\"\n",
    "AWS_SESSION_TOKEN=\"\""
   ]
  },
  {
   "cell_type": "code",
   "execution_count": 1,
   "id": "c72f0d77",
   "metadata": {},
   "outputs": [
    {
     "name": "stderr",
     "output_type": "stream",
     "text": [
      "2023-06-28 16:42:21.707551: I tensorflow/core/platform/cpu_feature_guard.cc:182] This TensorFlow binary is optimized to use available CPU instructions in performance-critical operations.\n",
      "To enable the following instructions: AVX2 FMA, in other operations, rebuild TensorFlow with the appropriate compiler flags.\n",
      "/usr/local/lib/python3.11/site-packages/tqdm/auto.py:21: TqdmWarning: IProgress not found. Please update jupyter and ipywidgets. See https://ipywidgets.readthedocs.io/en/stable/user_install.html\n",
      "  from .autonotebook import tqdm as notebook_tqdm\n"
     ]
    }
   ],
   "source": [
    "import boto3\n",
    "import cv2\n",
    "import os\n",
    "import pytesseract\n",
    "import fitz  # PyMuPDF\n",
    "import io\n",
    "import re\n",
    "import glob\n",
    "import spacy\n",
    "import pandas as pd\n",
    "from transformers import BlipProcessor, BlipForConditionalGeneration\n",
    "from PIL import Image"
   ]
  },
  {
   "cell_type": "code",
   "execution_count": 2,
   "id": "950f897e",
   "metadata": {},
   "outputs": [],
   "source": [
    "# file path you want to extract images from\n",
    "file = \"US9061754.pdf\"\n",
    "# open the file\n",
    "pdf_file = fitz.open(file)\n",
    "min_width = 50\n",
    "min_height = 50\n",
    "output_dir = \"extracted_images\"\n",
    "output_format = \"png\""
   ]
  },
  {
   "cell_type": "code",
   "execution_count": 24,
   "id": "67824a6c",
   "metadata": {},
   "outputs": [
    {
     "name": "stdout",
     "output_type": "stream",
     "text": [
      "[+] Found a total of 1 images in page 0\n",
      "[+] Found a total of 1 images in page 1\n",
      "[+] Found a total of 1 images in page 2\n",
      "[+] Found a total of 1 images in page 3\n",
      "[+] Found a total of 1 images in page 4\n",
      "[+] Found a total of 1 images in page 5\n",
      "[+] Found a total of 1 images in page 6\n",
      "[+] Found a total of 1 images in page 7\n",
      "[+] Found a total of 1 images in page 8\n",
      "[+] Found a total of 1 images in page 9\n",
      "[+] Found a total of 1 images in page 10\n",
      "[+] Found a total of 1 images in page 11\n",
      "[+] Found a total of 1 images in page 12\n",
      "[+] Found a total of 1 images in page 13\n",
      "[+] Found a total of 1 images in page 14\n",
      "[+] Found a total of 1 images in page 15\n",
      "[+] Found a total of 1 images in page 16\n",
      "[+] Found a total of 1 images in page 17\n",
      "[+] Found a total of 1 images in page 18\n",
      "[+] Found a total of 1 images in page 19\n",
      "[+] Found a total of 1 images in page 20\n",
      "[+] Found a total of 1 images in page 21\n",
      "[+] Found a total of 1 images in page 22\n",
      "[+] Found a total of 1 images in page 23\n"
     ]
    }
   ],
   "source": [
    "# Iterate over PDF pages\n",
    "image_paths =[]\n",
    "for page_index in range(len(pdf_file)):\n",
    "    # Get the page itself\n",
    "    page = pdf_file[page_index]\n",
    "    # Get image list\n",
    "    image_list = page.get_images(full=True)\n",
    "    # Print the number of images found on this page\n",
    "    if image_list:\n",
    "        print(f\"[+] Found a total of {len(image_list)} images in page {page_index}\")\n",
    "    else:\n",
    "        print(f\"[!] No images found on page {page_index}\")\n",
    "    # Iterate over the images on the page\n",
    "    for image_index, img in enumerate(image_list, start=1):\n",
    "        # Get the XREF of the image\n",
    "        xref = img[0]\n",
    "        # Extract the image bytes\n",
    "        base_image = pdf_file.extract_image(xref)\n",
    "        image_bytes = base_image[\"image\"]\n",
    "        # Get the image extension\n",
    "        image_ext = base_image[\"ext\"]\n",
    "        # Load it to PIL\n",
    "        image = Image.open(io.BytesIO(image_bytes))\n",
    "        # Check if the image meets the minimum dimensions and save it\n",
    "        if image.width >= min_width and image.height >= min_height:\n",
    "            image_path = f\"image{page_index + 1}_{image_index}.{output_format}\"\n",
    "            image_paths.append(\"extracted_images/\"+image_path)\n",
    "            image.save(\n",
    "                open(os.path.join(output_dir, image_path), \"wb\"),\n",
    "                format=output_format.upper())\n",
    "        else:\n",
    "            print(f\"[-] Skipping image {image_index} on page {page_index} due to its small size.\")"
   ]
  },
  {
   "cell_type": "code",
   "execution_count": 29,
   "id": "22541d48",
   "metadata": {},
   "outputs": [
    {
     "name": "stdout",
     "output_type": "stream",
     "text": [
      "[]\n",
      "['FIG. 1', 'FIG. 1']\n",
      "['FIG. 2']\n",
      "['FIG. 3B', 'FIG. 3A', 'FIG. 3D', 'FIG. 3C']\n",
      "['FIG. 4B', 'FIG. 4A', 'FIG. 4D', 'FIG. 4C']\n",
      "['FIG. 5']\n",
      "[]\n",
      "['FIG.8', 'FIG.8']\n",
      "['FIG. 9', 'FIG. 10']\n",
      "['FIG.11', 'FIG.11']\n",
      "['FIG.12', 'FIG.12']\n",
      "['FIG. 13']\n",
      "['FIG. 14']\n",
      "['FIG. 15']\n",
      "['FIG. 16']\n",
      "['FIG. 17', 'FIG. 18']\n",
      "[]\n",
      "[]\n",
      "[]\n",
      "[]\n",
      "[]\n",
      "['(FIG.5)', '(FIG.5)', '(FIG.5)']\n",
      "[]\n",
      "[]\n"
     ]
    }
   ],
   "source": [
    "figures = []\n",
    "for image in image_paths:        \n",
    "    client = boto3.client('textract',region_name='us-east-1',\n",
    "                      aws_access_key_id=AWS_ACCESS_KEY_ID,\n",
    "                      aws_secret_access_key=AWS_SECRET_ACCESS_KEY,\n",
    "                      aws_session_token=AWS_SESSION_TOKEN)\n",
    "\n",
    "    with open(image, 'rb') as image:\n",
    "        img = bytearray(image.read())\n",
    "\n",
    "\n",
    "    response = client.detect_document_text(\n",
    "            Document={'Bytes': img}\n",
    "        )\n",
    "       \n",
    "    figure = [response['Blocks'][i]['Text'] \n",
    "                     for i in range(len(response['Blocks'])) \n",
    "                     if 'Text' in response['Blocks'][i] \n",
    "                     if 'fig' in response['Blocks'][i]['Text'].lower()\n",
    "                     if len(response['Blocks'][i]['Text'].lower()) < 10\n",
    "                     if any(char.isdigit() for char in response['Blocks'][i]['Text'])==True]\n",
    "    print(figure)\n",
    "    figures.append(list(set(figure)))\n",
    "\n",
    "# TODO:\n",
    "# pull filter out"
   ]
  },
  {
   "cell_type": "code",
   "execution_count": 36,
   "id": "1dbf26b5",
   "metadata": {},
   "outputs": [],
   "source": [
    "# image_paths"
   ]
  },
  {
   "cell_type": "code",
   "execution_count": 35,
   "id": "6f0875e0",
   "metadata": {},
   "outputs": [],
   "source": [
    "# figures"
   ]
  },
  {
   "cell_type": "code",
   "execution_count": 384,
   "id": "c056ff8b",
   "metadata": {},
   "outputs": [
    {
     "name": "stdout",
     "output_type": "stream",
     "text": [
      "14804\n"
     ]
    }
   ],
   "source": [
    "doc = fitz.open(file)\n",
    "text = \"\"\n",
    "for page in doc:\n",
    "    text+=page.get_text()\n",
    "text = ' '.join(text.split())\n",
    "print(len(text))"
   ]
  },
  {
   "cell_type": "code",
   "execution_count": 34,
   "id": "a66ddbd8",
   "metadata": {
    "scrolled": false
   },
   "outputs": [],
   "source": [
    "# text"
   ]
  },
  {
   "cell_type": "code",
   "execution_count": 447,
   "id": "591673d3",
   "metadata": {},
   "outputs": [],
   "source": [
    "# file = \"US7725375.pdf\"\n",
    "# doc = fitz.open(file)\n",
    "# # blocks = [page[4] for index in range(len(doc)) for page in doc[index].get_text(\"blocks\")]   \n",
    "# blocks = ' '.join([page.get_text() for page in doc])"
   ]
  },
  {
   "cell_type": "code",
   "execution_count": 448,
   "id": "1262d78f",
   "metadata": {},
   "outputs": [],
   "source": [
    "alt = re.findall(r'DESCRIPTION OF DRAWINGS(.*?)(DETAILED|DESCRIPTION)',text.replace('\\n','').replace('.',''))"
   ]
  },
  {
   "cell_type": "code",
   "execution_count": 449,
   "id": "8ad70aa9",
   "metadata": {},
   "outputs": [],
   "source": [
    "FIG = re.findall(r'BRIEF DESCRIPTION[A-Z]* OF THE DRAWINGS(.*?)(DETAILED|DESCRIPTION)',text.replace('\\n','').replace('.',''))"
   ]
  },
  {
   "cell_type": "code",
   "execution_count": 450,
   "id": "720ac767",
   "metadata": {},
   "outputs": [
    {
     "data": {
      "text/plain": [
       "[]"
      ]
     },
     "execution_count": 450,
     "metadata": {},
     "output_type": "execute_result"
    }
   ],
   "source": [
    "FIG"
   ]
  },
  {
   "cell_type": "code",
   "execution_count": 28,
   "id": "bf4d5a8f",
   "metadata": {},
   "outputs": [],
   "source": [
    "finds = []\n",
    "for fig in figures:\n",
    "    findings = ' '.join([block for block in blocks if 'FIG. ' +str(fig) in block])\n",
    "    if findings !=[]:\n",
    "        finds.append(findings)\n",
    "    else:\n",
    "        finds.append('')\n",
    "            "
   ]
  },
  {
   "cell_type": "code",
   "execution_count": 29,
   "id": "5ce16991",
   "metadata": {},
   "outputs": [],
   "source": [
    "# finds"
   ]
  },
  {
   "cell_type": "code",
   "execution_count": 30,
   "id": "86d47e8f",
   "metadata": {},
   "outputs": [],
   "source": [
    "df = pd.DataFrame(columns =[])\n",
    "df['image_paths'] = image_paths\n",
    "df['figures'] = figures\n",
    "df['finds'] = finds\n"
   ]
  },
  {
   "cell_type": "code",
   "execution_count": 33,
   "id": "299dc0b7",
   "metadata": {},
   "outputs": [],
   "source": [
    "# df"
   ]
  },
  {
   "cell_type": "code",
   "execution_count": 376,
   "id": "6a5ccbe3",
   "metadata": {},
   "outputs": [],
   "source": [
    "# df['finds'][36].split('\\n')"
   ]
  }
 ],
 "metadata": {
  "kernelspec": {
   "display_name": "Python 3 (ipykernel)",
   "language": "python",
   "name": "python3"
  },
  "language_info": {
   "codemirror_mode": {
    "name": "ipython",
    "version": 3
   },
   "file_extension": ".py",
   "mimetype": "text/x-python",
   "name": "python",
   "nbconvert_exporter": "python",
   "pygments_lexer": "ipython3",
   "version": "3.11.4"
  }
 },
 "nbformat": 4,
 "nbformat_minor": 5
}

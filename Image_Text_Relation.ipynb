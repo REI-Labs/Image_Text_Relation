{
 "cells": [
  {
   "cell_type": "markdown",
   "id": "7a767760",
   "metadata": {},
   "source": [
    "Prompt:\n",
    "\n",
    "In a PDF, can we find sentences in a text related to the image?\n",
    "\n",
    "Strategy:\n",
    "\n",
    "1. Scrape Text and Image\n",
    "\n",
    "2. Use Image Captioning to find out the description of the image, pretrained BLIP works really well out of the box, can fine tune is necessary.  \n",
    "\n",
    "3. Using Spacy, pull out the most useful words for from the description\n",
    "\n",
    "4. Using the words, look for sentences that mention it. Save them.\n",
    "\n",
    "5.  Rank how important the sentence is from how many times that word is used in a sentence and how many dependencies that word has.  \n",
    "\n",
    "6. Fine Tune Image Captioning for customer datasets, but that requires data "
   ]
  },
  {
   "cell_type": "code",
   "execution_count": 153,
   "id": "d892cb9a",
   "metadata": {},
   "outputs": [],
   "source": [
    "import os\n",
    "import fitz  # PyMuPDF\n",
    "import io\n",
    "from PIL import Image\n",
    "import spacy\n",
    "import pandas as pd\n",
    "import requests\n",
    "from PIL import Image\n",
    "from transformers import BlipProcessor, BlipForConditionalGeneration\n",
    "import spacy\n",
    "nlp = spacy.load('en_core_web_sm')"
   ]
  },
  {
   "cell_type": "markdown",
   "id": "1e9a1337",
   "metadata": {},
   "source": [
    "# Pulling images from PDFs\n",
    "\n",
    "https://www.thepythoncode.com/article/extract-pdf-images-in-python"
   ]
  },
  {
   "cell_type": "code",
   "execution_count": 293,
   "id": "3fd28300",
   "metadata": {},
   "outputs": [],
   "source": [
    "# file path you want to extract images from\n",
    "file = \"US2557671.pdf\"\n",
    "# open the file\n",
    "pdf_file = fitz.open(file)\n",
    "\n",
    "# Output directory for the extracted images\n",
    "output_dir = \"extracted_images\"\n",
    "# Desired output image format\n",
    "output_format = \"png\"\n",
    "# Minimum width and height for extracted images\n",
    "min_width = 50\n",
    "min_height = 50\n",
    "# Create the output directory if it does not exist\n",
    "if not os.path.exists(output_dir):\n",
    "    os.makedirs(output_dir)\n",
    "    \n",
    "# Iterate over PDF pages\n",
    "for page_index in range(len(pdf_file)):\n",
    "    # Get the page itself\n",
    "    page = pdf_file[page_index]\n",
    "    # Get image list\n",
    "    image_list = page.get_images(full=True)\n",
    "    # Print the number of images found on this page\n",
    "    # if image_list:\n",
    "        # print(f\"[+] Found a total of {len(image_list)} images in page {page_index}\")\n",
    "    # else:\n",
    "        # print(f\"[!] No images found on page {page_index}\")\n",
    "    # Iterate over the images on the page\n",
    "    for image_index, img in enumerate(image_list, start=1):\n",
    "        # Get the XREF of the image\n",
    "        xref = img[0]\n",
    "        # Extract the image bytes\n",
    "        base_image = pdf_file.extract_image(xref)\n",
    "        image_bytes = base_image[\"image\"]\n",
    "        # Get the image extension\n",
    "        image_ext = base_image[\"ext\"]\n",
    "        # Load it to PIL\n",
    "        image = Image.open(io.BytesIO(image_bytes))\n",
    "        # Check if the image meets the minimum dimensions and save it\n",
    "        if image.width >= min_width and image.height >= min_height:\n",
    "            image.save(\n",
    "                open(os.path.join(output_dir, f\"image{page_index + 1}_{image_index}.{output_format}\"), \"wb\"),\n",
    "                format=output_format.upper())\n",
    "        else:\n",
    "            print(f\"[-] Skipping image {image_index} on page {page_index} due to its small size.\")"
   ]
  },
  {
   "cell_type": "markdown",
   "id": "adc4836e",
   "metadata": {},
   "source": [
    "# Getting an image description from pretrained \n",
    "\n",
    "https://huggingface.co/Salesforce/blip-image-captioning-base"
   ]
  },
  {
   "cell_type": "code",
   "execution_count": 294,
   "id": "200433ff",
   "metadata": {},
   "outputs": [],
   "source": [
    "processor = BlipProcessor.from_pretrained(\"Salesforce/blip-image-captioning-base\")\n",
    "model = BlipForConditionalGeneration.from_pretrained(\"Salesforce/blip-image-captioning-base\")\n",
    "\n",
    "raw_image = Image.open(\"extracted_images/image1_1.png\") # .convert('RGB')\n",
    "\n",
    "# conditional image captioning\n",
    "text = \"picture of\"\n",
    "inputs = processor(raw_image, text, return_tensors=\"pt\")\n",
    "\n",
    "out = model.generate(**inputs)\n",
    "text = processor.decode(out[0], skip_special_tokens=True)\n",
    "\n",
    "inputs = processor(raw_image, return_tensors=\"pt\")\n",
    "\n",
    "out = model.generate(**inputs)\n",
    "text2 = processor.decode(out[0], skip_special_tokens=True)\n",
    "\n",
    "# this could be sped up if necessary "
   ]
  },
  {
   "cell_type": "code",
   "execution_count": 295,
   "id": "4dc32fba",
   "metadata": {},
   "outputs": [
    {
     "data": {
      "text/plain": [
       "'picture of the original patent for the chair'"
      ]
     },
     "execution_count": 295,
     "metadata": {},
     "output_type": "execute_result"
    }
   ],
   "source": [
    "text"
   ]
  },
  {
   "cell_type": "code",
   "execution_count": 296,
   "id": "751f6711",
   "metadata": {},
   "outputs": [
    {
     "data": {
      "text/plain": [
       "'patent for a chair'"
      ]
     },
     "execution_count": 296,
     "metadata": {},
     "output_type": "execute_result"
    }
   ],
   "source": [
    "text2"
   ]
  },
  {
   "cell_type": "markdown",
   "id": "30aed017",
   "metadata": {},
   "source": [
    "# Find the most important word"
   ]
  },
  {
   "cell_type": "code",
   "execution_count": 297,
   "id": "0166b2f4",
   "metadata": {},
   "outputs": [],
   "source": [
    "# Load English tokenizer, tagger, parser and NER\n",
    "nlp = spacy.load(\"en_core_web_sm\")\n",
    "\n",
    "doc = nlp(text)\n",
    "\n",
    "# Find named entities, phrases and concepts\n",
    "\n",
    "nouns = [token.lemma_ for token in doc if token.pos_ == \"NOUN\" if token.lemma_ not in ['picture', 'patent', 'application','icon','logo']]\n",
    "\n",
    "if nouns==[]:\n",
    "    entities = [entity.text for entity in doc.ents]\n",
    "    nouns = entities\n",
    "# https://realpython.com/natural-language-processing-spacy-python/"
   ]
  },
  {
   "cell_type": "code",
   "execution_count": 298,
   "id": "ec35f404",
   "metadata": {},
   "outputs": [
    {
     "data": {
      "text/plain": [
       "['chair']"
      ]
     },
     "execution_count": 298,
     "metadata": {},
     "output_type": "execute_result"
    }
   ],
   "source": [
    "nouns"
   ]
  },
  {
   "cell_type": "code",
   "execution_count": 299,
   "id": "c00d949f",
   "metadata": {},
   "outputs": [
    {
     "data": {
      "text/plain": [
       "'chair'"
      ]
     },
     "execution_count": 299,
     "metadata": {},
     "output_type": "execute_result"
    }
   ],
   "source": [
    "keyword = nouns[0]\n",
    "keyword"
   ]
  },
  {
   "cell_type": "markdown",
   "id": "39bc6a57",
   "metadata": {},
   "source": [
    "# Pull text from PDF"
   ]
  },
  {
   "cell_type": "code",
   "execution_count": 300,
   "id": "477170b0",
   "metadata": {},
   "outputs": [],
   "source": [
    "doc = fitz.open('US2557671.pdf')\n",
    "text = \"\"\n",
    "for page in doc:\n",
    "    text+=page.get_text()\n",
    "text = ' '.join(text.split()).lower()\n",
    "relevant = []\n",
    "\n",
    "for t in text.split('. '):\n",
    "    if keyword in t:\n",
    "        relevant.append(t)\n",
    "        \n",
    "# https://neurondai.medium.com/how-to-extract-text-from-a-pdf-using-pymupdf-and-python-caa8487cf9d\n"
   ]
  },
  {
   "cell_type": "markdown",
   "id": "2677b753",
   "metadata": {},
   "source": [
    "# Counting Noun dependencies\n",
    "\n",
    "- not my code , but it words"
   ]
  },
  {
   "cell_type": "code",
   "execution_count": 301,
   "id": "8cd4bf35",
   "metadata": {},
   "outputs": [],
   "source": [
    "dependency = []\n",
    "for txt in relevant:\n",
    "    doc = nlp(txt)\n",
    "\n",
    "    chunks = []\n",
    "    for chunk in doc.noun_chunks:\n",
    "        out = {}\n",
    "        root = chunk.root\n",
    "        out[root.pos_] = root\n",
    "        for tok in chunk:\n",
    "            if tok != root:\n",
    "                out[tok.pos_] = tok\n",
    "        chunks.append(out)\n",
    "    \n",
    "    count = 0\n",
    "    for chunk in chunks:\n",
    "        if keyword in str(chunk):\n",
    "            count += len(chunk)\n",
    "    dependency.append(count)\n",
    "    count = 0\n",
    "# https://stackoverflow.com/questions/67821137/spacy-how-to-get-all-words-that-describe-a-noun"
   ]
  },
  {
   "cell_type": "code",
   "execution_count": 302,
   "id": "f806beee",
   "metadata": {},
   "outputs": [],
   "source": [
    "chart = pd.DataFrame(columns = [])\n",
    "chart['RelevantText'] = relevant\n",
    "chart['DependencyCount'] = dependency"
   ]
  },
  {
   "cell_type": "code",
   "execution_count": 303,
   "id": "fab2536a",
   "metadata": {
    "scrolled": true
   },
   "outputs": [
    {
     "data": {
      "text/html": [
       "<div>\n",
       "<style scoped>\n",
       "    .dataframe tbody tr th:only-of-type {\n",
       "        vertical-align: middle;\n",
       "    }\n",
       "\n",
       "    .dataframe tbody tr th {\n",
       "        vertical-align: top;\n",
       "    }\n",
       "\n",
       "    .dataframe thead th {\n",
       "        text-align: right;\n",
       "    }\n",
       "</style>\n",
       "<table border=\"1\" class=\"dataframe\">\n",
       "  <thead>\n",
       "    <tr style=\"text-align: right;\">\n",
       "      <th></th>\n",
       "      <th>RelevantText</th>\n",
       "      <th>DependencyCount</th>\n",
       "    </tr>\n",
       "  </thead>\n",
       "  <tbody>\n",
       "    <tr>\n",
       "      <th>2</th>\n",
       "      <td>6,899 2 clains, this invention relates to chai...</td>\n",
       "      <td>5</td>\n",
       "    </tr>\n",
       "    <tr>\n",
       "      <th>7</th>\n",
       "      <td>the frame members constructed as described fle...</td>\n",
       "      <td>4</td>\n",
       "    </tr>\n",
       "    <tr>\n",
       "      <th>0</th>\n",
       "      <td>mcdonald 2,557,671 chair comprised of resilien...</td>\n",
       "      <td>3</td>\n",
       "    </tr>\n",
       "    <tr>\n",
       "      <th>5</th>\n",
       "      <td>referring to the drawing for a better under st...</td>\n",
       "      <td>3</td>\n",
       "    </tr>\n",
       "    <tr>\n",
       "      <th>3</th>\n",
       "      <td>in particular, my invention contemplates an im...</td>\n",
       "      <td>2</td>\n",
       "    </tr>\n",
       "    <tr>\n",
       "      <th>4</th>\n",
       "      <td>a chair enabodying features of my invention is...</td>\n",
       "      <td>2</td>\n",
       "    </tr>\n",
       "    <tr>\n",
       "      <th>6</th>\n",
       "      <td>the two clamps 4 each partially encircle a cro...</td>\n",
       "      <td>2</td>\n",
       "    </tr>\n",
       "    <tr>\n",
       "      <th>8</th>\n",
       "      <td>in a chair embodying opposed resilient side fr...</td>\n",
       "      <td>2</td>\n",
       "    </tr>\n",
       "    <tr>\n",
       "      <th>9</th>\n",
       "      <td>in a chair embodying a pair of resilient side ...</td>\n",
       "      <td>2</td>\n",
       "    </tr>\n",
       "    <tr>\n",
       "      <th>1</th>\n",
       "      <td>chair comspresed of reslent shade frawe webers...</td>\n",
       "      <td>1</td>\n",
       "    </tr>\n",
       "  </tbody>\n",
       "</table>\n",
       "</div>"
      ],
      "text/plain": [
       "                                        RelevantText  DependencyCount\n",
       "2  6,899 2 clains, this invention relates to chai...                5\n",
       "7  the frame members constructed as described fle...                4\n",
       "0  mcdonald 2,557,671 chair comprised of resilien...                3\n",
       "5  referring to the drawing for a better under st...                3\n",
       "3  in particular, my invention contemplates an im...                2\n",
       "4  a chair enabodying features of my invention is...                2\n",
       "6  the two clamps 4 each partially encircle a cro...                2\n",
       "8  in a chair embodying opposed resilient side fr...                2\n",
       "9  in a chair embodying a pair of resilient side ...                2\n",
       "1  chair comspresed of reslent shade frawe webers...                1"
      ]
     },
     "execution_count": 303,
     "metadata": {},
     "output_type": "execute_result"
    }
   ],
   "source": [
    "chart.sort_values(by='DependencyCount',ascending=False)"
   ]
  },
  {
   "cell_type": "code",
   "execution_count": 304,
   "id": "7f1b737c",
   "metadata": {},
   "outputs": [
    {
     "data": {
      "text/plain": [
       "'6,899 2 clains, this invention relates to chairs and particularly to a chair constructed of resilient frame members with a suspended fabric seat and back and has for an object the provision of a chair of the character designated which shall be siriple and sturdy of design and construction, and which may be read ily disassembled for packaging and shipment and rea,ssembled for use'"
      ]
     },
     "execution_count": 304,
     "metadata": {},
     "output_type": "execute_result"
    }
   ],
   "source": [
    "chart['RelevantText'][2]"
   ]
  },
  {
   "cell_type": "markdown",
   "id": "3cdfc694",
   "metadata": {},
   "source": [
    "# Things to try: Model fine tuning\n",
    " https://colab.research.google.com/github/huggingface/notebooks/blob/main/examples/image_captioning_blip.ipynb#scrollTo=FrGmatasn5-B\n",
    " https://pypi.org/project/blip-ci/    "
   ]
  },
  {
   "cell_type": "code",
   "execution_count": 305,
   "id": "1016762d",
   "metadata": {},
   "outputs": [],
   "source": [
    "# future improvements\n",
    "\n",
    "# better image captioning\n",
    "# better word relationships"
   ]
  }
 ],
 "metadata": {
  "kernelspec": {
   "display_name": "Python 3 (ipykernel)",
   "language": "python",
   "name": "python3"
  },
  "language_info": {
   "codemirror_mode": {
    "name": "ipython",
    "version": 3
   },
   "file_extension": ".py",
   "mimetype": "text/x-python",
   "name": "python",
   "nbconvert_exporter": "python",
   "pygments_lexer": "ipython3",
   "version": "3.11.2"
  }
 },
 "nbformat": 4,
 "nbformat_minor": 5
}
